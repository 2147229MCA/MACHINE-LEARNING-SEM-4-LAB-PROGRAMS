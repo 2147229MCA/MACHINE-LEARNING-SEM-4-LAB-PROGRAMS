{
  "nbformat": 4,
  "nbformat_minor": 0,
  "metadata": {
    "colab": {
      "provenance": [],
      "collapsed_sections": []
    },
    "kernelspec": {
      "name": "python3",
      "display_name": "Python 3"
    },
    "language_info": {
      "name": "python"
    }
  },
  "cells": [
    {
      "cell_type": "code",
      "execution_count": null,
      "metadata": {
        "colab": {
          "base_uri": "https://localhost:8080/"
        },
        "id": "5Ebqfq7ZMkC0",
        "outputId": "31620c36-d87d-44e7-9f70-f6299556bdce"
      },
      "outputs": [
        {
          "output_type": "stream",
          "name": "stdout",
          "text": [
            "Mounted at /content/drive\n"
          ]
        }
      ],
      "source": [
        "from google.colab import drive\n",
        "drive.mount('/content/drive')"
      ]
    },
    {
      "cell_type": "code",
      "source": [
        "# Importing the libraries  \n",
        "import numpy as nm  \n",
        "import matplotlib.pyplot as mtp  \n",
        "import pandas as pd  "
      ],
      "metadata": {
        "id": "cZhvnGKJMwj8"
      },
      "execution_count": null,
      "outputs": []
    },
    {
      "cell_type": "code",
      "source": [
        "df = pd.read_csv('titanic.csv')  \n",
        "df"
      ],
      "metadata": {
        "colab": {
          "base_uri": "https://localhost:8080/",
          "height": 424
        },
        "id": "loyKUeUpNAd8",
        "outputId": "a185f5d9-5bed-4f32-9452-0921311aefbf"
      },
      "execution_count": null,
      "outputs": [
        {
          "output_type": "execute_result",
          "data": {
            "text/plain": [
              "     PassengerId  Survived  Pclass  \\\n",
              "0              1         0       3   \n",
              "1              2         1       1   \n",
              "2              3         1       3   \n",
              "3              4         1       1   \n",
              "4              5         0       3   \n",
              "..           ...       ...     ...   \n",
              "886          887         0       2   \n",
              "887          888         1       1   \n",
              "888          889         0       3   \n",
              "889          890         1       1   \n",
              "890          891         0       3   \n",
              "\n",
              "                                                  Name     Sex   Age  SibSp  \\\n",
              "0                              Braund, Mr. Owen Harris    male  22.0      1   \n",
              "1    Cumings, Mrs. John Bradley (Florence Briggs Th...  female  38.0      1   \n",
              "2                               Heikkinen, Miss. Laina  female  26.0      0   \n",
              "3         Futrelle, Mrs. Jacques Heath (Lily May Peel)  female  35.0      1   \n",
              "4                             Allen, Mr. William Henry    male  35.0      0   \n",
              "..                                                 ...     ...   ...    ...   \n",
              "886                              Montvila, Rev. Juozas    male  27.0      0   \n",
              "887                       Graham, Miss. Margaret Edith  female  19.0      0   \n",
              "888           Johnston, Miss. Catherine Helen \"Carrie\"  female   NaN      1   \n",
              "889                              Behr, Mr. Karl Howell    male  26.0      0   \n",
              "890                                Dooley, Mr. Patrick    male  32.0      0   \n",
              "\n",
              "     Parch            Ticket     Fare Cabin Embarked  \n",
              "0        0         A/5 21171   7.2500   NaN        S  \n",
              "1        0          PC 17599  71.2833   C85        C  \n",
              "2        0  STON/O2. 3101282   7.9250   NaN        S  \n",
              "3        0            113803  53.1000  C123        S  \n",
              "4        0            373450   8.0500   NaN        S  \n",
              "..     ...               ...      ...   ...      ...  \n",
              "886      0            211536  13.0000   NaN        S  \n",
              "887      0            112053  30.0000   B42        S  \n",
              "888      2        W./C. 6607  23.4500   NaN        S  \n",
              "889      0            111369  30.0000  C148        C  \n",
              "890      0            370376   7.7500   NaN        Q  \n",
              "\n",
              "[891 rows x 12 columns]"
            ],
            "text/html": [
              "\n",
              "  <div id=\"df-a21eebc1-6da9-4d1f-bf3f-fa8ef41ba6e3\">\n",
              "    <div class=\"colab-df-container\">\n",
              "      <div>\n",
              "<style scoped>\n",
              "    .dataframe tbody tr th:only-of-type {\n",
              "        vertical-align: middle;\n",
              "    }\n",
              "\n",
              "    .dataframe tbody tr th {\n",
              "        vertical-align: top;\n",
              "    }\n",
              "\n",
              "    .dataframe thead th {\n",
              "        text-align: right;\n",
              "    }\n",
              "</style>\n",
              "<table border=\"1\" class=\"dataframe\">\n",
              "  <thead>\n",
              "    <tr style=\"text-align: right;\">\n",
              "      <th></th>\n",
              "      <th>PassengerId</th>\n",
              "      <th>Survived</th>\n",
              "      <th>Pclass</th>\n",
              "      <th>Name</th>\n",
              "      <th>Sex</th>\n",
              "      <th>Age</th>\n",
              "      <th>SibSp</th>\n",
              "      <th>Parch</th>\n",
              "      <th>Ticket</th>\n",
              "      <th>Fare</th>\n",
              "      <th>Cabin</th>\n",
              "      <th>Embarked</th>\n",
              "    </tr>\n",
              "  </thead>\n",
              "  <tbody>\n",
              "    <tr>\n",
              "      <th>0</th>\n",
              "      <td>1</td>\n",
              "      <td>0</td>\n",
              "      <td>3</td>\n",
              "      <td>Braund, Mr. Owen Harris</td>\n",
              "      <td>male</td>\n",
              "      <td>22.0</td>\n",
              "      <td>1</td>\n",
              "      <td>0</td>\n",
              "      <td>A/5 21171</td>\n",
              "      <td>7.2500</td>\n",
              "      <td>NaN</td>\n",
              "      <td>S</td>\n",
              "    </tr>\n",
              "    <tr>\n",
              "      <th>1</th>\n",
              "      <td>2</td>\n",
              "      <td>1</td>\n",
              "      <td>1</td>\n",
              "      <td>Cumings, Mrs. John Bradley (Florence Briggs Th...</td>\n",
              "      <td>female</td>\n",
              "      <td>38.0</td>\n",
              "      <td>1</td>\n",
              "      <td>0</td>\n",
              "      <td>PC 17599</td>\n",
              "      <td>71.2833</td>\n",
              "      <td>C85</td>\n",
              "      <td>C</td>\n",
              "    </tr>\n",
              "    <tr>\n",
              "      <th>2</th>\n",
              "      <td>3</td>\n",
              "      <td>1</td>\n",
              "      <td>3</td>\n",
              "      <td>Heikkinen, Miss. Laina</td>\n",
              "      <td>female</td>\n",
              "      <td>26.0</td>\n",
              "      <td>0</td>\n",
              "      <td>0</td>\n",
              "      <td>STON/O2. 3101282</td>\n",
              "      <td>7.9250</td>\n",
              "      <td>NaN</td>\n",
              "      <td>S</td>\n",
              "    </tr>\n",
              "    <tr>\n",
              "      <th>3</th>\n",
              "      <td>4</td>\n",
              "      <td>1</td>\n",
              "      <td>1</td>\n",
              "      <td>Futrelle, Mrs. Jacques Heath (Lily May Peel)</td>\n",
              "      <td>female</td>\n",
              "      <td>35.0</td>\n",
              "      <td>1</td>\n",
              "      <td>0</td>\n",
              "      <td>113803</td>\n",
              "      <td>53.1000</td>\n",
              "      <td>C123</td>\n",
              "      <td>S</td>\n",
              "    </tr>\n",
              "    <tr>\n",
              "      <th>4</th>\n",
              "      <td>5</td>\n",
              "      <td>0</td>\n",
              "      <td>3</td>\n",
              "      <td>Allen, Mr. William Henry</td>\n",
              "      <td>male</td>\n",
              "      <td>35.0</td>\n",
              "      <td>0</td>\n",
              "      <td>0</td>\n",
              "      <td>373450</td>\n",
              "      <td>8.0500</td>\n",
              "      <td>NaN</td>\n",
              "      <td>S</td>\n",
              "    </tr>\n",
              "    <tr>\n",
              "      <th>...</th>\n",
              "      <td>...</td>\n",
              "      <td>...</td>\n",
              "      <td>...</td>\n",
              "      <td>...</td>\n",
              "      <td>...</td>\n",
              "      <td>...</td>\n",
              "      <td>...</td>\n",
              "      <td>...</td>\n",
              "      <td>...</td>\n",
              "      <td>...</td>\n",
              "      <td>...</td>\n",
              "      <td>...</td>\n",
              "    </tr>\n",
              "    <tr>\n",
              "      <th>886</th>\n",
              "      <td>887</td>\n",
              "      <td>0</td>\n",
              "      <td>2</td>\n",
              "      <td>Montvila, Rev. Juozas</td>\n",
              "      <td>male</td>\n",
              "      <td>27.0</td>\n",
              "      <td>0</td>\n",
              "      <td>0</td>\n",
              "      <td>211536</td>\n",
              "      <td>13.0000</td>\n",
              "      <td>NaN</td>\n",
              "      <td>S</td>\n",
              "    </tr>\n",
              "    <tr>\n",
              "      <th>887</th>\n",
              "      <td>888</td>\n",
              "      <td>1</td>\n",
              "      <td>1</td>\n",
              "      <td>Graham, Miss. Margaret Edith</td>\n",
              "      <td>female</td>\n",
              "      <td>19.0</td>\n",
              "      <td>0</td>\n",
              "      <td>0</td>\n",
              "      <td>112053</td>\n",
              "      <td>30.0000</td>\n",
              "      <td>B42</td>\n",
              "      <td>S</td>\n",
              "    </tr>\n",
              "    <tr>\n",
              "      <th>888</th>\n",
              "      <td>889</td>\n",
              "      <td>0</td>\n",
              "      <td>3</td>\n",
              "      <td>Johnston, Miss. Catherine Helen \"Carrie\"</td>\n",
              "      <td>female</td>\n",
              "      <td>NaN</td>\n",
              "      <td>1</td>\n",
              "      <td>2</td>\n",
              "      <td>W./C. 6607</td>\n",
              "      <td>23.4500</td>\n",
              "      <td>NaN</td>\n",
              "      <td>S</td>\n",
              "    </tr>\n",
              "    <tr>\n",
              "      <th>889</th>\n",
              "      <td>890</td>\n",
              "      <td>1</td>\n",
              "      <td>1</td>\n",
              "      <td>Behr, Mr. Karl Howell</td>\n",
              "      <td>male</td>\n",
              "      <td>26.0</td>\n",
              "      <td>0</td>\n",
              "      <td>0</td>\n",
              "      <td>111369</td>\n",
              "      <td>30.0000</td>\n",
              "      <td>C148</td>\n",
              "      <td>C</td>\n",
              "    </tr>\n",
              "    <tr>\n",
              "      <th>890</th>\n",
              "      <td>891</td>\n",
              "      <td>0</td>\n",
              "      <td>3</td>\n",
              "      <td>Dooley, Mr. Patrick</td>\n",
              "      <td>male</td>\n",
              "      <td>32.0</td>\n",
              "      <td>0</td>\n",
              "      <td>0</td>\n",
              "      <td>370376</td>\n",
              "      <td>7.7500</td>\n",
              "      <td>NaN</td>\n",
              "      <td>Q</td>\n",
              "    </tr>\n",
              "  </tbody>\n",
              "</table>\n",
              "<p>891 rows × 12 columns</p>\n",
              "</div>\n",
              "      <button class=\"colab-df-convert\" onclick=\"convertToInteractive('df-a21eebc1-6da9-4d1f-bf3f-fa8ef41ba6e3')\"\n",
              "              title=\"Convert this dataframe to an interactive table.\"\n",
              "              style=\"display:none;\">\n",
              "        \n",
              "  <svg xmlns=\"http://www.w3.org/2000/svg\" height=\"24px\"viewBox=\"0 0 24 24\"\n",
              "       width=\"24px\">\n",
              "    <path d=\"M0 0h24v24H0V0z\" fill=\"none\"/>\n",
              "    <path d=\"M18.56 5.44l.94 2.06.94-2.06 2.06-.94-2.06-.94-.94-2.06-.94 2.06-2.06.94zm-11 1L8.5 8.5l.94-2.06 2.06-.94-2.06-.94L8.5 2.5l-.94 2.06-2.06.94zm10 10l.94 2.06.94-2.06 2.06-.94-2.06-.94-.94-2.06-.94 2.06-2.06.94z\"/><path d=\"M17.41 7.96l-1.37-1.37c-.4-.4-.92-.59-1.43-.59-.52 0-1.04.2-1.43.59L10.3 9.45l-7.72 7.72c-.78.78-.78 2.05 0 2.83L4 21.41c.39.39.9.59 1.41.59.51 0 1.02-.2 1.41-.59l7.78-7.78 2.81-2.81c.8-.78.8-2.07 0-2.86zM5.41 20L4 18.59l7.72-7.72 1.47 1.35L5.41 20z\"/>\n",
              "  </svg>\n",
              "      </button>\n",
              "      \n",
              "  <style>\n",
              "    .colab-df-container {\n",
              "      display:flex;\n",
              "      flex-wrap:wrap;\n",
              "      gap: 12px;\n",
              "    }\n",
              "\n",
              "    .colab-df-convert {\n",
              "      background-color: #E8F0FE;\n",
              "      border: none;\n",
              "      border-radius: 50%;\n",
              "      cursor: pointer;\n",
              "      display: none;\n",
              "      fill: #1967D2;\n",
              "      height: 32px;\n",
              "      padding: 0 0 0 0;\n",
              "      width: 32px;\n",
              "    }\n",
              "\n",
              "    .colab-df-convert:hover {\n",
              "      background-color: #E2EBFA;\n",
              "      box-shadow: 0px 1px 2px rgba(60, 64, 67, 0.3), 0px 1px 3px 1px rgba(60, 64, 67, 0.15);\n",
              "      fill: #174EA6;\n",
              "    }\n",
              "\n",
              "    [theme=dark] .colab-df-convert {\n",
              "      background-color: #3B4455;\n",
              "      fill: #D2E3FC;\n",
              "    }\n",
              "\n",
              "    [theme=dark] .colab-df-convert:hover {\n",
              "      background-color: #434B5C;\n",
              "      box-shadow: 0px 1px 3px 1px rgba(0, 0, 0, 0.15);\n",
              "      filter: drop-shadow(0px 1px 2px rgba(0, 0, 0, 0.3));\n",
              "      fill: #FFFFFF;\n",
              "    }\n",
              "  </style>\n",
              "\n",
              "      <script>\n",
              "        const buttonEl =\n",
              "          document.querySelector('#df-a21eebc1-6da9-4d1f-bf3f-fa8ef41ba6e3 button.colab-df-convert');\n",
              "        buttonEl.style.display =\n",
              "          google.colab.kernel.accessAllowed ? 'block' : 'none';\n",
              "\n",
              "        async function convertToInteractive(key) {\n",
              "          const element = document.querySelector('#df-a21eebc1-6da9-4d1f-bf3f-fa8ef41ba6e3');\n",
              "          const dataTable =\n",
              "            await google.colab.kernel.invokeFunction('convertToInteractive',\n",
              "                                                     [key], {});\n",
              "          if (!dataTable) return;\n",
              "\n",
              "          const docLinkHtml = 'Like what you see? Visit the ' +\n",
              "            '<a target=\"_blank\" href=https://colab.research.google.com/notebooks/data_table.ipynb>data table notebook</a>'\n",
              "            + ' to learn more about interactive tables.';\n",
              "          element.innerHTML = '';\n",
              "          dataTable['output_type'] = 'display_data';\n",
              "          await google.colab.output.renderOutput(dataTable, element);\n",
              "          const docLink = document.createElement('div');\n",
              "          docLink.innerHTML = docLinkHtml;\n",
              "          element.appendChild(docLink);\n",
              "        }\n",
              "      </script>\n",
              "    </div>\n",
              "  </div>\n",
              "  "
            ]
          },
          "metadata": {},
          "execution_count": 4
        }
      ]
    },
    {
      "cell_type": "markdown",
      "source": [
        "performing preprocessing steps"
      ],
      "metadata": {
        "id": "hgKGZxB6O00Z"
      }
    },
    {
      "cell_type": "code",
      "source": [
        "df[\"Age\"].fillna(29,inplace = True)\n",
        "x = df.iloc[:, [5, 7]].values \n",
        "x"
      ],
      "metadata": {
        "colab": {
          "base_uri": "https://localhost:8080/"
        },
        "id": "-3pF0FQVN0cE",
        "outputId": "a50b2b12-c06b-4a9b-92ce-2f96ae2d43cb"
      },
      "execution_count": null,
      "outputs": [
        {
          "output_type": "execute_result",
          "data": {
            "text/plain": [
              "array([[22.,  0.],\n",
              "       [38.,  0.],\n",
              "       [26.,  0.],\n",
              "       ...,\n",
              "       [29.,  2.],\n",
              "       [26.,  0.],\n",
              "       [32.,  0.]])"
            ]
          },
          "metadata": {},
          "execution_count": 14
        }
      ]
    },
    {
      "cell_type": "code",
      "source": [
        "import scipy.cluster.hierarchy as shc  \n",
        "dendro = shc.dendrogram(shc.linkage(x, method=\"ward\"))  \n",
        "mtp.title(\"Dendrogrma Plot\")  \n",
        "mtp.ylabel(\"Euclidean Distances\")  \n",
        "mtp.xlabel(\"Age of Passengers\")  \n",
        "mtp.show()  "
      ],
      "metadata": {
        "colab": {
          "base_uri": "https://localhost:8080/",
          "height": 295
        },
        "id": "S4yj7gojOGgx",
        "outputId": "b7506692-80a4-45ee-8916-775420c07c38"
      },
      "execution_count": null,
      "outputs": [
        {
          "output_type": "display_data",
          "data": {
            "text/plain": [
              "<Figure size 432x288 with 1 Axes>"
            ],
            "image/png": "[encoded data removed]"
          },
          "metadata": {
            "needs_background": "light"
          }
        }
      ]
    },
    {
      "cell_type": "markdown",
      "source": [
        "The Dendogram allows us to detect atleast 3 clusters"
      ],
      "metadata": {
        "id": "kH3nVvkGO8jU"
      }
    },
    {
      "cell_type": "code",
      "source": [
        "from sklearn.cluster import AgglomerativeClustering  \n",
        "hc= AgglomerativeClustering(n_clusters=4, affinity='euclidean', linkage='ward')  \n",
        "y_pred= hc.fit_predict(x)  \n",
        "y_pred"
      ],
      "metadata": {
        "colab": {
          "base_uri": "https://localhost:8080/"
        },
        "id": "qPuihfCCUIFH",
        "outputId": "46786bda-6e81-41e4-891f-b69295c3dba6"
      },
      "execution_count": null,
      "outputs": [
        {
          "output_type": "execute_result",
          "data": {
            "text/plain": [
              "array([0, 2, 3, 2, 2, 3, 1, 0, 3, 0, 0, 1, 0, 2, 0, 1, 0, 3, 3, 3, 2, 2,\n",
              "       0, 3, 0, 2, 3, 0, 3, 3, 2, 3, 3, 1, 3, 2, 3, 0, 0, 0, 2, 3, 3, 0,\n",
              "       0, 3, 3, 3, 3, 0, 0, 0, 1, 3, 1, 3, 0, 3, 0, 0, 0, 2, 2, 0, 3, 3,\n",
              "       3, 0, 0, 3, 2, 0, 0, 3, 2, 3, 3, 3, 0, 3, 0, 3, 3, 3, 0, 2, 0, 3,\n",
              "       3, 3, 3, 0, 2, 3, 1, 3, 1, 3, 2, 2, 3, 3, 0, 2, 2, 3, 0, 3, 2, 3,\n",
              "       1, 0, 0, 0, 0, 0, 1, 3, 3, 0, 0, 3, 2, 2, 1, 0, 3, 3, 3, 2, 2, 0,\n",
              "       1, 3, 3, 3, 0, 2, 0, 3, 3, 0, 3, 0, 0, 0, 3, 0, 2, 2, 1, 0, 1, 2,\n",
              "       3, 1, 0, 3, 3, 3, 2, 2, 3, 0, 0, 0, 3, 2, 3, 3, 1, 0, 0, 0, 1, 0,\n",
              "       3, 1, 3, 2, 3, 3, 0, 0, 0, 3, 3, 2, 2, 2, 2, 0, 0, 0, 2, 1, 3, 2,\n",
              "       3, 3, 3, 3, 2, 2, 0, 0, 2, 3, 0, 2, 3, 2, 0, 3, 3, 3, 3, 2, 2, 3,\n",
              "       0, 3, 1, 3, 2, 0, 0, 0, 0, 3, 2, 3, 1, 0, 3, 3, 2, 0, 0, 2, 3, 3,\n",
              "       3, 0, 3, 2, 3, 3, 2, 1, 3, 3, 1, 3, 2, 3, 3, 3, 2, 1, 3, 0, 1, 2,\n",
              "       3, 2, 0, 3, 1, 2, 3, 3, 2, 2, 3, 1, 2, 3, 0, 2, 1, 3, 0, 0, 3, 2,\n",
              "       3, 0, 2, 0, 3, 0, 2, 3, 3, 3, 3, 0, 3, 1, 3, 3, 0, 3, 3, 0, 3, 0,\n",
              "       3, 3, 3, 0, 3, 3, 2, 3, 3, 1, 3, 2, 0, 3, 3, 0, 3, 2, 1, 2, 3, 0,\n",
              "       3, 2, 2, 0, 3, 3, 3, 2, 2, 2, 0, 3, 3, 3, 2, 3, 2, 3, 0, 2, 3, 3,\n",
              "       0, 3, 3, 3, 0, 2, 3, 3, 2, 3, 2, 2, 3, 3, 1, 3, 3, 3, 3, 0, 0, 0,\n",
              "       0, 3, 0, 3, 0, 0, 2, 0, 2, 2, 3, 0, 0, 2, 3, 0, 2, 0, 3, 3, 3, 0,\n",
              "       3, 2, 3, 3, 2, 3, 0, 3, 0, 2, 1, 0, 0, 3, 3, 3, 2, 3, 2, 3, 2, 0,\n",
              "       3, 0, 3, 0, 3, 3, 0, 3, 3, 0, 3, 2, 3, 3, 2, 0, 1, 0, 0, 3, 1, 3,\n",
              "       2, 0, 3, 3, 3, 0, 0, 2, 0, 1, 2, 3, 3, 1, 3, 3, 1, 3, 1, 3, 1, 2,\n",
              "       1, 1, 3, 2, 3, 1, 3, 0, 3, 2, 2, 3, 0, 3, 2, 3, 0, 0, 0, 3, 1, 1,\n",
              "       3, 3, 2, 1, 3, 0, 3, 0, 1, 1, 0, 3, 1, 3, 3, 3, 0, 0, 3, 2, 0, 0,\n",
              "       2, 3, 3, 3, 3, 3, 2, 1, 3, 1, 2, 3, 2, 2, 3, 0, 3, 2, 3, 2, 1, 3,\n",
              "       2, 3, 0, 3, 0, 3, 3, 0, 2, 3, 3, 0, 2, 0, 0, 2, 1, 1, 0, 3, 2, 0,\n",
              "       0, 3, 3, 0, 0, 1, 1, 3, 2, 2, 3, 2, 3, 3, 3, 3, 0, 3, 3, 2, 1, 1,\n",
              "       2, 3, 0, 0, 2, 2, 3, 2, 3, 2, 1, 2, 3, 0, 1, 1, 0, 3, 2, 1, 1, 3,\n",
              "       2, 2, 3, 1, 3, 1, 3, 3, 3, 2, 2, 2, 3, 3, 0, 2, 2, 3, 3, 3, 2, 3,\n",
              "       2, 3, 0, 3, 3, 2, 0, 0, 0, 1, 1, 0, 3, 3, 1, 1, 2, 3, 0, 3, 2, 3,\n",
              "       2, 3, 0, 3, 0, 3, 0, 1, 0, 1, 3, 3, 3, 0, 0, 3, 0, 3, 3, 2, 3, 1,\n",
              "       1, 2, 1, 2, 0, 2, 3, 3, 2, 3, 2, 3, 1, 3, 3, 0, 3, 0, 2, 2, 3, 3,\n",
              "       0, 0, 1, 3, 0, 0, 0, 0, 3, 0, 3, 3, 1, 1, 2, 3, 1, 2, 0, 2, 0, 3,\n",
              "       3, 2, 2, 2, 0, 3, 3, 3, 1, 3, 1, 0, 2, 3, 3, 2, 0, 0, 2, 1, 3, 0,\n",
              "       3, 3, 3, 3, 3, 0, 3, 3, 3, 3, 1, 2, 3, 3, 3, 2, 0, 3, 3, 1, 0, 3,\n",
              "       0, 3, 0, 0, 2, 3, 1, 0, 3, 0, 2, 2, 3, 2, 0, 2, 0, 1, 3, 3, 3, 2,\n",
              "       3, 1, 1, 3, 1, 0, 3, 0, 3, 2, 0, 0, 3, 3, 3, 3, 0, 0, 0, 2, 3, 0,\n",
              "       3, 3, 3, 2, 1, 3, 3, 3, 2, 3, 0, 0, 3, 3, 2, 0, 2, 2, 3, 2, 2, 0,\n",
              "       3, 3, 3, 3, 2, 0, 1, 3, 2, 3, 0, 3, 3, 0, 3, 1, 0, 0, 3, 3, 0, 2,\n",
              "       0, 3, 2, 3, 0, 0, 3, 2, 0, 2, 3, 2, 3, 3, 0, 1, 0, 0, 2, 0, 2, 1,\n",
              "       3, 3, 2, 0, 1, 3, 3, 2, 3, 3, 3, 0, 3, 1, 2, 1, 3, 0, 0, 0, 3, 1,\n",
              "       3, 2, 0, 3, 3, 2, 3, 0, 3, 3, 2])"
            ]
          },
          "metadata": {},
          "execution_count": 23
        }
      ]
    },
    {
      "cell_type": "code",
      "source": [
        "#visulaizing the clusters  \n",
        "mtp.scatter(x[y_pred == 0, 0], x[y_pred == 0, 1], s = 100, c = 'blue', label = 'Cluster 1')  \n",
        "mtp.scatter(x[y_pred == 1, 0], x[y_pred == 1, 1], s = 100, c = 'green', label = 'Cluster 2')  \n",
        "mtp.scatter(x[y_pred== 2, 0], x[y_pred == 2, 1], s = 100, c = 'red', label = 'Cluster 3')  \n",
        "mtp.scatter(x[y_pred == 3, 0], x[y_pred == 3, 1], s = 100, c = 'cyan', label = 'Cluster 4')  \n",
        "mtp.title('Clusters of Passengers')  \n",
        "mtp.xlabel('Age Range')  \n",
        "mtp.ylabel('Parents/Children Brought')  \n",
        "mtp.legend()  \n",
        "mtp.show()  "
      ],
      "metadata": {
        "colab": {
          "base_uri": "https://localhost:8080/",
          "height": 295
        },
        "id": "EqpThYoaUghI",
        "outputId": "28929ece-1121-4834-c326-efe9168d3928"
      },
      "execution_count": null,
      "outputs": [
        {
          "output_type": "display_data",
          "data": {
            "text/plain": [
              "<Figure size 432x288 with 1 Axes>"
            ],
            "image/png": "[encoded data removed]"
          },
          "metadata": {
            "needs_background": "light"
          }
        }
      ]
    },
    {
      "cell_type": "markdown",
      "source": [
        "The visualization allows us to infer familial relations along with age - Between Ages 30 - 50 - it can be said that the most amount of Parents/Children were brought aboard."
      ],
      "metadata": {
        "id": "FPOsvh91PHf4"
      }
    },
    {
      "cell_type": "code",
      "source": [
        "x1 = df.iloc[:, [5, 2]].values \n",
        "x1"
      ],
      "metadata": {
        "colab": {
          "base_uri": "https://localhost:8080/"
        },
        "id": "2ZNR2c0BWFiD",
        "outputId": "2212e216-186e-45cf-86b3-1554ecd297b8"
      },
      "execution_count": null,
      "outputs": [
        {
          "output_type": "execute_result",
          "data": {
            "text/plain": [
              "array([[22.,  3.],\n",
              "       [38.,  1.],\n",
              "       [26.,  3.],\n",
              "       ...,\n",
              "       [29.,  3.],\n",
              "       [26.,  1.],\n",
              "       [32.,  3.]])"
            ]
          },
          "metadata": {},
          "execution_count": 37
        }
      ]
    },
    {
      "cell_type": "code",
      "source": [
        "dendro1 = shc.dendrogram(shc.linkage(x1, method=\"ward\"))  \n",
        "mtp.title(\"Dendrogrma Plot\")  \n",
        "mtp.ylabel(\"Euclidean Distances\")  \n",
        "mtp.xlabel(\"Age of Passengers\")  \n",
        "mtp.show()  "
      ],
      "metadata": {
        "colab": {
          "base_uri": "https://localhost:8080/",
          "height": 295
        },
        "id": "nE2Gp60hWbDz",
        "outputId": "fb3e501a-6a02-47c1-8bb2-f1f47417c6e6"
      },
      "execution_count": null,
      "outputs": [
        {
          "output_type": "display_data",
          "data": {
            "text/plain": [
              "<Figure size 432x288 with 1 Axes>"
            ],
            "image/png": "[encoded data removed]"
          },
          "metadata": {
            "needs_background": "light"
          }
        }
      ]
    },
    {
      "cell_type": "markdown",
      "source": [
        "This dendogram allows us to understand that Atleast 2 clusters are present."
      ],
      "metadata": {
        "id": "TqDlc7AsQbRX"
      }
    },
    {
      "cell_type": "code",
      "source": [
        "hc= AgglomerativeClustering(n_clusters=4, affinity='euclidean', linkage='ward')  \n",
        "y_pred= hc.fit_predict(x1)  \n",
        "mtp.scatter(x1[y_pred == 0, 0], x1[y_pred == 0, 1], s = 100, c = 'blue', label = 'Cluster 1')  \n",
        "mtp.scatter(x1[y_pred == 1, 0], x1[y_pred == 1, 1], s = 100, c = 'green', label = 'Cluster 2')  \n",
        "mtp.scatter(x1[y_pred== 2, 0], x1[y_pred == 2, 1], s = 100, c = 'red', label = 'Cluster 3')  \n",
        "mtp.scatter(x1[y_pred == 3, 0], x1[y_pred == 3, 1], s = 100, c = 'cyan', label = 'Cluster 4')  \n",
        "mtp.title('Clusters of Passengers')  \n",
        "mtp.xlabel('Age Range')  \n",
        "mtp.ylabel('Passenger Class')  \n",
        "mtp.legend()  \n",
        "mtp.show()  "
      ],
      "metadata": {
        "colab": {
          "base_uri": "https://localhost:8080/",
          "height": 295
        },
        "id": "uRQcb9tAXqsC",
        "outputId": "f3452eda-f9d4-4219-d3f6-2636dbaf9bca"
      },
      "execution_count": null,
      "outputs": [
        {
          "output_type": "display_data",
          "data": {
            "text/plain": [
              "<Figure size 432x288 with 1 Axes>"
            ],
            "image/png": "[encoded data removed]"
          },
          "metadata": {
            "needs_background": "light"
          }
        }
      ]
    },
    {
      "cell_type": "markdown",
      "source": [
        "The above cluster plot allows us to understand that most of the customers in all 3 classes had an age range of extreme late 30s to the maximum age being 80."
      ],
      "metadata": {
        "id": "9nN21mp8QkAp"
      }
    },
    {
      "cell_type": "markdown",
      "source": [
        "# Heirarchical Clustering\n",
        "Advantages of Hierarchical Clustering:\n",
        "\n",
        "We can obtain the optimal number of clusters from the model itself, human intervention not required.\n",
        "Dendrograms help us in clear visualization, which is practical and easy to understand.\n",
        "Disadvantages of Hierarchical Clustering:\n",
        "\n",
        "Not suitable for large datasets due to high time and space complexity.\n",
        "There is no mathematical objective for Hierarchical clustering.\n",
        "All the approaches to calculate the similarity between clusters has their own disadvantages."
      ],
      "metadata": {
        "id": "C4VHszxDgUg6"
      }
    },
    {
      "cell_type": "code",
      "source": [],
      "metadata": {
        "id": "QTou5eJYj_bA"
      },
      "execution_count": null,
      "outputs": []
    },
    {
      "cell_type": "markdown",
      "source": [
        "#Kmeans Vs Heirarchical\n",
        "k-means, using a pre-specified  number of clusters, the method  assigns records to each cluster to  find the mutually exclusive cluster  of spherical shape based on distance.\tHierarchical methods can be either divisive or agglomerative.\n",
        "\n",
        "K Means clustering needed advance knowledge of K i.e. no. of clusters one want to divide your data.\tIn hierarchical clustering one can stop at any number of clusters, one find appropriate by interpreting the dendrogram.\n",
        "\n",
        "One can use median or mean as a cluster centre to represent each cluster.\tAgglomerative methods  begin with ‘n’ clusters and sequentially combine similar clusters until only one cluster is obtained.\n",
        "\n",
        "KMEANS Methods used are normally less computationally intensive and are suited with very large datasets.\tDivisive methods work in the opposite direction, beginning with one cluster that includes all the records and Hierarchical methods are especially useful when the target is to arrange the clusters into a natural hierarchy.\n",
        "\n",
        "In K Means clustering, since one start with random choice of clusters, the results produced by running the algorithm many times may differ.\tIn Hierarchical Clustering, results are reproducible in Hierarchical clustering\n",
        "\n",
        "K- means clustering a simply a division of the set of data objects into non-overlapping subsets (clusters) such that each  data object is in exactly one subset).\tA hierarchical clustering is a set of nested clusters that are arranged as a tree.\n",
        "\n",
        "K Means clustering is found to work well when the structure of the clusters is hyper spherical (like circle in 2D,  sphere in 3D).\tHierarchical clustering don’t work  as well as, k means when the  shape of the clusters is hyper  spherical.\n",
        "\n",
        "KMEANSAdvantages: 1. Convergence is guaranteed. 2. Specialized to clusters of different sizes and shapes.\t\n",
        "HEIRARAdvantages:  1 .Ease of handling of any forms of similarity or distance. 2. Consequently, applicability to any attributes types.\n",
        "\n",
        "KMEANSDisadvantages: 1. K-Value is difficult to predict 2. Didn’t work well with global cluster.\t\n",
        "HEIRARDisadvantage: 1. Hierarchical clustering requires the computation and storage of an n×n  distance matrix. For very large datasets, this can be expensive and slow"
      ],
      "metadata": {
        "id": "Gac6jUscjx9K"
      }
    }
  ]
}